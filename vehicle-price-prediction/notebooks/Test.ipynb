{
 "cells": [
  {
   "cell_type": "code",
   "execution_count": 1,
   "id": "5124f80b-f1b5-4553-83ba-d609d1282858",
   "metadata": {},
   "outputs": [
    {
     "name": "stdout",
     "output_type": "stream",
     "text": [
      "Requirement already satisfied: pytest in c:\\users\\user\\anaconda3\\lib\\site-packages (7.4.0)\n",
      "Requirement already satisfied: iniconfig in c:\\users\\user\\anaconda3\\lib\\site-packages (from pytest) (1.1.1)\n",
      "Requirement already satisfied: packaging in c:\\users\\user\\anaconda3\\lib\\site-packages (from pytest) (23.1)\n",
      "Requirement already satisfied: pluggy<2.0,>=0.12 in c:\\users\\user\\anaconda3\\lib\\site-packages (from pytest) (1.0.0)\n",
      "Requirement already satisfied: colorama in c:\\users\\user\\anaconda3\\lib\\site-packages (from pytest) (0.4.6)\n",
      "Note: you may need to restart the kernel to use updated packages.\n"
     ]
    }
   ],
   "source": [
    "pip install pytest"
   ]
  },
  {
   "cell_type": "code",
   "execution_count": 9,
   "id": "6e4e0366-4406-4322-b9a7-7a2c20239c7e",
   "metadata": {},
   "outputs": [],
   "source": [
    "# model.py\n",
    "import pandas as pd\n",
    "import re\n",
    "from sklearn.preprocessing import LabelEncoder\n",
    "from sklearn.model_selection import train_test_split\n",
    "from sklearn.ensemble import RandomForestRegressor\n",
    "from sklearn.metrics import mean_absolute_error, mean_squared_error\n",
    "import pickle\n",
    "\n",
    "def load_data(filepath):\n",
    "    data = pd.read_csv(filepath)\n",
    "    return data\n",
    "\n",
    "def preprocess_data(data):\n",
    "    def convert_to_numeric(value):\n",
    "        value = str(value)\n",
    "        value = re.sub(r'[^\\d.]', '', value)\n",
    "        return pd.to_numeric(value, errors='coerce')\n",
    "\n",
    "    data['Year'] = data['Year'].apply(convert_to_numeric)\n",
    "    data['Capacity (cc)'] = data['Capacity (cc)'].apply(convert_to_numeric)\n",
    "    data['Mileage (Km)'] = data['Mileage (Km)'].apply(convert_to_numeric)\n",
    "    data['Price (Rs)'] = data['Price (Rs)'].apply(convert_to_numeric)\n",
    "\n",
    "    label_encoders = {}\n",
    "    categorical_columns = ['Brand', 'Model', 'Condition', 'Transmission', 'Fuel']\n",
    "\n",
    "    for column in categorical_columns:\n",
    "        label_encoders[column] = LabelEncoder()\n",
    "        data[column] = label_encoders[column].fit_transform(data[column])\n",
    "\n",
    "    return data, label_encoders\n",
    "\n",
    "def split_data(data):\n",
    "    X = data.drop(columns=['Price (Rs)'])\n",
    "    y = data['Price (Rs)']\n",
    "    return train_test_split(X, y, test_size=0.2, random_state=42)\n",
    "\n",
    "def train_model(x_train, y_train):\n",
    "    model = RandomForestRegressor(random_state=42)\n",
    "    model.fit(x_train, y_train)\n",
    "    return model\n",
    "\n",
    "def evaluate_model(model, x_test, y_test):\n",
    "    y_pred = model.predict(x_test)\n",
    "    mae = mean_absolute_error(y_test, y_pred)\n",
    "    mse = mean_squared_error(y_test, y_pred)\n",
    "    rmse = mse ** 0.5\n",
    "    r2 = model.score(x_test, y_test)\n",
    "    accuracy_percentage = 100 * (1 - (mae / y_test.mean()))\n",
    "    \n",
    "    return {\n",
    "        \"mae\": mae,\n",
    "        \"mse\": mse,\n",
    "        \"rmse\": rmse,\n",
    "        \"r2\": r2,\n",
    "        \"accuracy_percentage\": accuracy_percentage\n",
    "    }\n",
    "\n",
    "def save_model(model, filename):\n",
    "    with open(filename, 'wb') as f:\n",
    "        pickle.dump(model, f)\n",
    "\n",
    "def load_model(filename):\n",
    "    with open(filename, 'rb') as f:\n",
    "        return pickle.load(f)\n"
   ]
  },
  {
   "cell_type": "code",
   "execution_count": 11,
   "id": "ddad2dee-129c-4acf-949f-07a67b25752c",
   "metadata": {},
   "outputs": [
    {
     "ename": "ModuleNotFoundError",
     "evalue": "No module named 'model'",
     "output_type": "error",
     "traceback": [
      "\u001b[1;31m---------------------------------------------------------------------------\u001b[0m",
      "\u001b[1;31mModuleNotFoundError\u001b[0m                       Traceback (most recent call last)",
      "Cell \u001b[1;32mIn[11], line 4\u001b[0m\n\u001b[0;32m      2\u001b[0m \u001b[38;5;28;01mimport\u001b[39;00m \u001b[38;5;21;01mpytest\u001b[39;00m\n\u001b[0;32m      3\u001b[0m \u001b[38;5;28;01mimport\u001b[39;00m \u001b[38;5;21;01mpandas\u001b[39;00m \u001b[38;5;28;01mas\u001b[39;00m \u001b[38;5;21;01mpd\u001b[39;00m\n\u001b[1;32m----> 4\u001b[0m \u001b[38;5;28;01mfrom\u001b[39;00m \u001b[38;5;21;01mmodel\u001b[39;00m \u001b[38;5;28;01mimport\u001b[39;00m load_data, preprocess_data, split_data, train_model, evaluate_model\n\u001b[0;32m      6\u001b[0m \u001b[38;5;28;01mdef\u001b[39;00m \u001b[38;5;21mtest_load_data\u001b[39m():\n\u001b[0;32m      7\u001b[0m     data \u001b[38;5;241m=\u001b[39m load_data(\u001b[38;5;124m'\u001b[39m\u001b[38;5;124msrilanka_vehicle_data.csv\u001b[39m\u001b[38;5;124m'\u001b[39m)\n",
      "\u001b[1;31mModuleNotFoundError\u001b[0m: No module named 'model'"
     ]
    }
   ],
   "source": [
    "# test_model.py\n",
    "import pytest\n",
    "import pandas as pd\n",
    "from model import load_data, preprocess_data, split_data, train_model, evaluate_model\n",
    "\n",
    "def test_load_data():\n",
    "    data = load_data('srilanka_vehicle_data.csv')\n",
    "    assert isinstance(data, pd.DataFrame)\n",
    "    assert not data.empty\n",
    "\n",
    "def test_preprocess_data():\n",
    "    data = load_data('srilanka_vehicle_data.csv')\n",
    "    data, _ = preprocess_data(data)\n",
    "    assert 'Brand' in data.columns\n",
    "    assert 'Price (Rs)' in data.columns\n",
    "    assert pd.api.types.is_numeric_dtype(data['Year'])\n",
    "\n",
    "def test_split_data():\n",
    "    data = load_data('srilanka_vehicle_data.csv')\n",
    "    data, _ = preprocess_data(data)\n",
    "    x_train, x_test, y_train, y_test = split_data(data)\n",
    "    assert x_train.shape[0] > 0\n",
    "    assert x_test.shape[0] > 0\n",
    "    assert y_train.shape[0] > 0\n",
    "    assert y_test.shape[0] > 0\n",
    "\n",
    "def test_train_model():\n",
    "    data = load_data('srilanka_vehicle_data.csv')\n",
    "    data, _ = preprocess_data(data)\n",
    "    x_train, x_test, y_train, y_test = split_data(data)\n",
    "    model = train_model(x_train, y_train)\n",
    "    assert model is not None\n",
    "\n",
    "def test_evaluate_model():\n",
    "    data = load_data('srilanka_vehicle_data.csv')\n",
    "    data, _ = preprocess_data(data)\n",
    "    x_train, x_test, y_train, y_test = split_data(data)\n",
    "    model = train_model(x_train, y_train)\n",
    "    metrics = evaluate_model(model, x_test, y_test)\n",
    "    assert 'mae' in metrics\n",
    "    assert 'mse' in metrics\n",
    "    assert 'rmse' in metrics\n",
    "    assert 'r2' in metrics\n",
    "    assert 'accuracy_percentage' in metrics\n"
   ]
  }
 ],
 "metadata": {
  "kernelspec": {
   "display_name": "Python 3 (ipykernel)",
   "language": "python",
   "name": "python3"
  },
  "language_info": {
   "codemirror_mode": {
    "name": "ipython",
    "version": 3
   },
   "file_extension": ".py",
   "mimetype": "text/x-python",
   "name": "python",
   "nbconvert_exporter": "python",
   "pygments_lexer": "ipython3",
   "version": "3.11.7"
  }
 },
 "nbformat": 4,
 "nbformat_minor": 5
}
