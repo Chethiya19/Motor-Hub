{
 "cells": [
  {
   "cell_type": "code",
   "execution_count": 1,
   "id": "f68dbb7a-915d-4351-b367-887aff4259d4",
   "metadata": {},
   "outputs": [],
   "source": [
    "import pandas as pd"
   ]
  },
  {
   "cell_type": "code",
   "execution_count": 3,
   "id": "fc8f6279-2e6f-4d12-b08d-e6701dc2e9bf",
   "metadata": {},
   "outputs": [
    {
     "name": "stderr",
     "output_type": "stream",
     "text": [
      "C:\\Users\\user\\AppData\\Local\\Temp\\ipykernel_12732\\723882454.py:1: DtypeWarning: Columns (5) have mixed types. Specify dtype option on import or set low_memory=False.\n",
      "  df = pd.read_csv('vehicle_data.csv')\n"
     ]
    }
   ],
   "source": [
    "df = pd.read_csv('vehicle_data.csv')"
   ]
  },
  {
   "cell_type": "code",
   "execution_count": 5,
   "id": "9045854c-5f3f-46b6-a608-ff2e83a78ce7",
   "metadata": {},
   "outputs": [
    {
     "name": "stdout",
     "output_type": "stream",
     "text": [
      "Title                 0\n",
      "Sub_title             0\n",
      "Price                 0\n",
      "Brand                 0\n",
      "Model                 1\n",
      "Edition           76433\n",
      "Year                  0\n",
      "Condition             0\n",
      "Transmission          1\n",
      "Body               5095\n",
      "Fuel                  0\n",
      "Capacity            205\n",
      "Mileage               0\n",
      "Location              0\n",
      "Description       16174\n",
      "Post_URL              0\n",
      "Seller_name          98\n",
      "Seller_type           0\n",
      "Published_date        0\n",
      "dtype: int64\n"
     ]
    }
   ],
   "source": [
    "missing_values = df.isnull().sum()\n",
    "print(missing_values)"
   ]
  },
  {
   "cell_type": "code",
   "execution_count": 7,
   "id": "3270b9f7-29ed-44c0-96ba-976718e1fbf4",
   "metadata": {},
   "outputs": [],
   "source": [
    "df = df.dropna(subset=['Model'])"
   ]
  },
  {
   "cell_type": "code",
   "execution_count": 11,
   "id": "0dadcb2c-6656-4db1-801d-291e43b17e5c",
   "metadata": {},
   "outputs": [],
   "source": [
    "df = df.dropna(subset=['Capacity'])"
   ]
  },
  {
   "cell_type": "code",
   "execution_count": 21,
   "id": "25df3c8f-4229-4396-9bf8-11acc302b15c",
   "metadata": {},
   "outputs": [],
   "source": [
    "df = df.dropna(subset=['Transmission'])"
   ]
  },
  {
   "cell_type": "code",
   "execution_count": 23,
   "id": "60b8018a-a54b-4b08-8f20-8a19c779f471",
   "metadata": {},
   "outputs": [
    {
     "name": "stdout",
     "output_type": "stream",
     "text": [
      "Title                 0\n",
      "Sub_title             0\n",
      "Price                 0\n",
      "Brand                 0\n",
      "Model                 0\n",
      "Edition           76227\n",
      "Year                  0\n",
      "Condition             0\n",
      "Transmission          0\n",
      "Body               5095\n",
      "Fuel                  0\n",
      "Capacity              0\n",
      "Mileage               0\n",
      "Location              0\n",
      "Description       15968\n",
      "Post_URL              0\n",
      "Seller_name          98\n",
      "Seller_type           0\n",
      "Published_date        0\n",
      "dtype: int64\n"
     ]
    }
   ],
   "source": [
    "missing_values = df.isnull().sum()\n",
    "print(missing_values)"
   ]
  },
  {
   "cell_type": "code",
   "execution_count": 1,
   "id": "34176703-df48-4324-8501-cbd7a24689d5",
   "metadata": {},
   "outputs": [
    {
     "name": "stdout",
     "output_type": "stream",
     "text": [
      "                                      Title  \\\n",
      "0         Honda Vezel Limited 2017 for sale   \n",
      "1      Jaguar XF Fully Loaded 2013 for sale   \n",
      "2  Toyota CHR GT New Face 2wd 2020 for sale   \n",
      "3           Toyota CHR Toyato 2017 for sale   \n",
      "4   Toyota Land Cruiser Prado 2015 for sale   \n",
      "\n",
      "                                           Sub_title  Price (Rs)   Brand  \\\n",
      "0  Posted on 01 Sep 2:45 pm, Kurunegala City, Kur...    12900000   Honda   \n",
      "1  Posted on 28 Sep 10:23 am, Kurunegala City, Ku...    16250000  Jaguar   \n",
      "2       Posted on 16 Sep 1:16 pm, Colombo 7, Colombo    17000000  Toyota   \n",
      "3      Posted on 30 Sep 10:12 am, Colombo 7, Colombo    13000000  Toyota   \n",
      "4        Posted on 30 Sep 9:50 pm, Kelaniya, Gampaha    33500000  Toyota   \n",
      "\n",
      "                Model          Edition  Year Condition Transmission  \\\n",
      "0               Vezel          Limited  2017      Used    Automatic   \n",
      "1                  XF     Fully Loaded  2013      Used    Automatic   \n",
      "2                 CHR  GT New Face 2wd  2020      Used    Automatic   \n",
      "3                 CHR           Toyato  2017      Used    Automatic   \n",
      "4  Land Cruiser Prado            prado  2015      Used    Automatic   \n",
      "\n",
      "        Body    Fuel  Capacity (cc)  Mileage (Km)  \\\n",
      "0  SUV / 4x4  Hybrid           1500         37000   \n",
      "1     Saloon  Diesel           2200         42000   \n",
      "2  SUV / 4x4  Petrol           1200         15000   \n",
      "3  SUV / 4x4  Petrol           1200         21000   \n",
      "4  SUV / 4x4  Petrol           2700         57000   \n",
      "\n",
      "                        Location  \\\n",
      "0   Kurunegala City,  Kurunegala   \n",
      "1   Kurunegala City,  Kurunegala   \n",
      "2            Colombo 7,  Colombo   \n",
      "3            Colombo 7,  Colombo   \n",
      "4             Kelaniya,  Gampaha   \n",
      "\n",
      "                                         Description  \\\n",
      "0  HONDA VEZEL LIMITEDCBE-XXXXMANU YEAR : 2017LIM...   \n",
      "1  1st owner(registered owner)Diesel(13-14km per ...   \n",
      "2  2020 Facelift modelFirst owner (No previous ow...   \n",
      "3  Toyota CHR GT Turbo1st owner Imported as a bra...   \n",
      "4  Toyota Land Cruiser Prado 20152 nd Owner for 5...   \n",
      "\n",
      "                                            Post_URL          Seller_name  \\\n",
      "0  https://ikman.lk/en/ad/honda-vezel-limited-201...   Prasad Enterprises   \n",
      "1  https://ikman.lk/en/ad/jaguar-xf-fully-loaded-...  Dhanushka Dharmasri   \n",
      "2  https://ikman.lk/en/ad/toyota-chr-gt-new-face-...        Carzone Lanka   \n",
      "3  https://ikman.lk/en/ad/toyota-chr-toyato-2017-...        Carzone Lanka   \n",
      "4  https://ikman.lk/en/ad/toyota-land-cruiser-pra...   Shine Music Center   \n",
      "\n",
      "      Seller_type   Published_date  \n",
      "0  Premium-Member   9/1/2022 14:45  \n",
      "1          Member  9/28/2022 10:23  \n",
      "2          Member  9/16/2022 13:16  \n",
      "3          Member  9/30/2022 10:12  \n",
      "4          Member  9/30/2022 21:50  \n"
     ]
    }
   ],
   "source": [
    "import pandas as pd\n",
    "import numpy as np\n",
    "\n",
    "# Load the dataset\n",
    "df = pd.read_csv('vehicle_data.csv', dtype=str)\n",
    "\n",
    "# Clean and update the Price column\n",
    "df['Price'] = pd.to_numeric(df['Price'].replace('[^0-9]', '', regex=True).replace('', np.nan), errors='coerce')\n",
    "\n",
    "# Clean and update the Capacity column\n",
    "df['Capacity'] = pd.to_numeric(df['Capacity'].replace('[^0-9]', '', regex=True).replace('', np.nan), errors='coerce')\n",
    "\n",
    "# Clean and update the Mileage column\n",
    "df['Mileage'] = pd.to_numeric(df['Mileage'].replace('[^0-9]', '', regex=True).replace('', np.nan), errors='coerce')\n",
    "\n",
    "# Rename columns to the desired names\n",
    "df.rename(columns={\n",
    "    'Price': 'Price (Rs)',\n",
    "    'Capacity': 'Capacity (cc)',\n",
    "    'Mileage': 'Mileage (Km)'\n",
    "}, inplace=True)\n",
    "\n",
    "# Drop rows with NaN values in the renamed key columns\n",
    "df.dropna(subset=['Price (Rs)', 'Capacity (cc)', 'Mileage (Km)'], inplace=True)\n",
    "\n",
    "# Convert columns to integer type\n",
    "df['Price (Rs)'] = df['Price (Rs)'].astype(int)\n",
    "df['Capacity (cc)'] = df['Capacity (cc)'].astype(int)\n",
    "df['Mileage (Km)'] = df['Mileage (Km)'].astype(int)\n",
    "\n",
    "# Save the cleaned dataset\n",
    "df.to_csv('cleaned_vehicle_data.csv', index=False)\n",
    "\n",
    "# Display the first few rows to confirm the changes\n",
    "print(df.head())"
   ]
  }
 ],
 "metadata": {
  "kernelspec": {
   "display_name": "Python 3 (ipykernel)",
   "language": "python",
   "name": "python3"
  },
  "language_info": {
   "codemirror_mode": {
    "name": "ipython",
    "version": 3
   },
   "file_extension": ".py",
   "mimetype": "text/x-python",
   "name": "python",
   "nbconvert_exporter": "python",
   "pygments_lexer": "ipython3",
   "version": "3.11.7"
  }
 },
 "nbformat": 4,
 "nbformat_minor": 5
}
